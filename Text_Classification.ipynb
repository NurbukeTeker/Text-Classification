{
  "nbformat": 4,
  "nbformat_minor": 0,
  "metadata": {
    "colab": {
      "name": "Train Text Classification.ipynb",
      "version": "0.3.2",
      "provenance": [],
      "collapsed_sections": []
    },
    "kernelspec": {
      "name": "python3",
      "display_name": "Python 3"
    }
  },
  "cells": [
    {
      "cell_type": "markdown",
      "metadata": {
        "id": "IvSbUI1p1QqS",
        "colab_type": "text"
      },
      "source": [
        "## Loading the dataset"
      ]
    },
    {
      "cell_type": "code",
      "metadata": {
        "id": "22LKnEa1z2V9",
        "colab_type": "code",
        "outputId": "be070d5d-00c0-403f-b2e4-df635535df7b",
        "colab": {
          "base_uri": "https://localhost:8080/",
          "height": 74
        }
      },
      "source": [
        "# Run this cell to mount your Google Drive.\n",
        "from google.colab import drive\n",
        "drive.mount('/content/drive')"
      ],
      "execution_count": 1,
      "outputs": [
        {
          "output_type": "stream",
          "text": [
            "Drive already mounted at /content/drive; to attempt to forcibly remount, call drive.mount(\"/content/drive\", force_remount=True).\n"
          ],
          "name": "stdout"
        }
      ]
    },
    {
      "cell_type": "code",
      "metadata": {
        "id": "tph8j5Z3zNVx",
        "colab_type": "code",
        "colab": {}
      },
      "source": [
        "import zipfile\n",
        "zip_ref = zipfile.ZipFile('/content/drive/My Drive/dataset.zip', 'r')\n",
        "zip_ref.extractall()\n",
        "zip_ref.close()"
      ],
      "execution_count": 0,
      "outputs": []
    },
    {
      "cell_type": "markdown",
      "metadata": {
        "id": "2MBQ08xN1d9b",
        "colab_type": "text"
      },
      "source": [
        "## Importing Libraries"
      ]
    },
    {
      "cell_type": "code",
      "metadata": {
        "id": "154br9951dn5",
        "colab_type": "code",
        "outputId": "e8200677-d629-4f02-9b33-593251a0e5ae",
        "colab": {
          "base_uri": "https://localhost:8080/",
          "height": 113
        }
      },
      "source": [
        "import numpy as np\n",
        "import re\n",
        "import pickle \n",
        "import nltk\n",
        "from nltk.corpus import stopwords\n",
        "from sklearn.datasets import load_files\n",
        "nltk.download('stopwords')"
      ],
      "execution_count": 3,
      "outputs": [
        {
          "output_type": "stream",
          "text": [
            "[nltk_data] Downloading package stopwords to /root/nltk_data...\n",
            "[nltk_data]   Package stopwords is already up-to-date!\n"
          ],
          "name": "stdout"
        },
        {
          "output_type": "execute_result",
          "data": {
            "text/plain": [
              "True"
            ]
          },
          "metadata": {
            "tags": []
          },
          "execution_count": 3
        }
      ]
    },
    {
      "cell_type": "markdown",
      "metadata": {
        "id": "BuAFFDkl1L7c",
        "colab_type": "text"
      },
      "source": [
        "## Unpickling the dataset"
      ]
    },
    {
      "cell_type": "code",
      "metadata": {
        "id": "p-B3DwbL0X-L",
        "colab_type": "code",
        "colab": {}
      },
      "source": [
        "with open('dataset/X.pickle','rb') as f:\n",
        "    X = pickle.load(f)\n",
        "    \n",
        "with open('dataset/y.pickle','rb') as f:\n",
        "    y = pickle.load(f)"
      ],
      "execution_count": 0,
      "outputs": []
    },
    {
      "cell_type": "markdown",
      "metadata": {
        "id": "NfhzZpDK27-i",
        "colab_type": "text"
      },
      "source": [
        "## Creating the Corpus"
      ]
    },
    {
      "cell_type": "code",
      "metadata": {
        "id": "G-If6PDX2HlG",
        "colab_type": "code",
        "colab": {}
      },
      "source": [
        "corpus = []\n",
        "for i in range(len(X)):\n",
        "    review = re.sub(r'\\W', ' ', str(X[i]))\n",
        "    review = review.lower()\n",
        "    review = re.sub(r'^br$', ' ', review)\n",
        "    review = re.sub(r'\\s+br\\s+',' ',review)\n",
        "    review = re.sub(r'\\s+[a-z]\\s+', ' ',review)\n",
        "    review = re.sub(r'^b\\s+', '', review)\n",
        "    review = re.sub(r'\\s+', ' ', review)\n",
        "    corpus.append(review) "
      ],
      "execution_count": 0,
      "outputs": []
    },
    {
      "cell_type": "markdown",
      "metadata": {
        "id": "3MxFEmO240Ks",
        "colab_type": "text"
      },
      "source": [
        "## Creating the BOW Model"
      ]
    },
    {
      "cell_type": "code",
      "metadata": {
        "id": "QB7jo7_p4qBu",
        "colab_type": "code",
        "colab": {}
      },
      "source": [
        "from sklearn.feature_extraction.text import CountVectorizer\n",
        "vectorizer = CountVectorizer(max_features=2000,min_df = 3,max_df = 0.6,stop_words=stopwords.words('english'))\n",
        "X = vectorizer.fit_transform(corpus).toarray()"
      ],
      "execution_count": 0,
      "outputs": []
    },
    {
      "cell_type": "markdown",
      "metadata": {
        "id": "JXvPfwCQ7FXo",
        "colab_type": "text"
      },
      "source": [
        "## Convert BOW to TF-TDF model"
      ]
    },
    {
      "cell_type": "code",
      "metadata": {
        "id": "eXTp7dx97EdA",
        "colab_type": "code",
        "colab": {}
      },
      "source": [
        "from sklearn.feature_extraction.text import TfidfTransformer\n",
        "transformer = TfidfTransformer()\n",
        "X = transformer.fit_transform(X).toarray()"
      ],
      "execution_count": 0,
      "outputs": []
    },
    {
      "cell_type": "markdown",
      "metadata": {
        "id": "lAgJ0l80QCyT",
        "colab_type": "text"
      },
      "source": [
        "## Creating the Tf-Idf model directly"
      ]
    },
    {
      "cell_type": "code",
      "metadata": {
        "id": "nLT7Qr36QBKN",
        "colab_type": "code",
        "colab": {}
      },
      "source": [
        "from sklearn.feature_extraction.text import TfidfVectorizer\n",
        "vectorizer = TfidfVectorizer(max_features = 2000, min_df = 3, max_df = 0.6, stop_words = stopwords.words('english'))\n",
        "X = vectorizer.fit_transform(corpus).toarray()"
      ],
      "execution_count": 0,
      "outputs": []
    },
    {
      "cell_type": "markdown",
      "metadata": {
        "id": "Z1PgoHxMLYAU",
        "colab_type": "text"
      },
      "source": [
        "## Splitting the Data"
      ]
    },
    {
      "cell_type": "code",
      "metadata": {
        "id": "DF43p3XvLaiq",
        "colab_type": "code",
        "colab": {}
      },
      "source": [
        "from sklearn.model_selection import train_test_split\n",
        "X_train, X_test, Y_train, Y_test = train_test_split(X, y, test_size = 0.20, random_state = 0,shuffle=True)"
      ],
      "execution_count": 0,
      "outputs": []
    },
    {
      "cell_type": "markdown",
      "metadata": {
        "id": "YQoRGisx-aXR",
        "colab_type": "text"
      },
      "source": [
        "## Training the Models"
      ]
    },
    {
      "cell_type": "code",
      "metadata": {
        "id": "JRIb3jum-Z6J",
        "colab_type": "code",
        "outputId": "015c2fef-9c82-489e-8c07-d123feac1901",
        "colab": {
          "base_uri": "https://localhost:8080/",
          "height": 146
        }
      },
      "source": [
        "from sklearn.svm import SVC\n",
        "svm = SVC(C=1000,gamma=0.001)\n",
        "svm.fit(X_train,Y_train)"
      ],
      "execution_count": 10,
      "outputs": [
        {
          "output_type": "execute_result",
          "data": {
            "text/plain": [
              "SVC(C=1000, cache_size=200, class_weight=None, coef0=0.0,\n",
              "    decision_function_shape='ovr', degree=3, gamma=0.001, kernel='rbf',\n",
              "    max_iter=-1, probability=False, random_state=None, shrinking=True,\n",
              "    tol=0.001, verbose=False)"
            ]
          },
          "metadata": {
            "tags": []
          },
          "execution_count": 10
        }
      ]
    },
    {
      "cell_type": "code",
      "metadata": {
        "id": "12vCgOapNTTe",
        "colab_type": "code",
        "outputId": "c415f4b7-f560-4842-e0f1-0086a516b37d",
        "colab": {
          "base_uri": "https://localhost:8080/",
          "height": 173
        }
      },
      "source": [
        "from sklearn.linear_model import LogisticRegression\n",
        "classifier = LogisticRegression(C=6,max_iter = 100000)\n",
        "classifier.fit(X_train,Y_train)"
      ],
      "execution_count": 11,
      "outputs": [
        {
          "output_type": "stream",
          "text": [
            "/usr/local/lib/python3.6/dist-packages/sklearn/linear_model/logistic.py:432: FutureWarning: Default solver will be changed to 'lbfgs' in 0.22. Specify a solver to silence this warning.\n",
            "  FutureWarning)\n"
          ],
          "name": "stderr"
        },
        {
          "output_type": "execute_result",
          "data": {
            "text/plain": [
              "LogisticRegression(C=6, class_weight=None, dual=False, fit_intercept=True,\n",
              "                   intercept_scaling=1, l1_ratio=None, max_iter=100000,\n",
              "                   multi_class='warn', n_jobs=None, penalty='l2',\n",
              "                   random_state=None, solver='warn', tol=0.0001, verbose=0,\n",
              "                   warm_start=False)"
            ]
          },
          "metadata": {
            "tags": []
          },
          "execution_count": 11
        }
      ]
    },
    {
      "cell_type": "code",
      "metadata": {
        "id": "9cAIuNKjN2Xh",
        "colab_type": "code",
        "outputId": "81f5986e-f1d9-4d8e-9239-20cfe0331779",
        "colab": {
          "base_uri": "https://localhost:8080/",
          "height": 193
        }
      },
      "source": [
        "from sklearn.ensemble import RandomForestClassifier\n",
        "rf = RandomForestClassifier(n_estimators=1000)\n",
        "rf.fit(X_train,Y_train)"
      ],
      "execution_count": 12,
      "outputs": [
        {
          "output_type": "execute_result",
          "data": {
            "text/plain": [
              "RandomForestClassifier(bootstrap=True, class_weight=None, criterion='gini',\n",
              "                       max_depth=None, max_features='auto', max_leaf_nodes=None,\n",
              "                       min_impurity_decrease=0.0, min_impurity_split=None,\n",
              "                       min_samples_leaf=1, min_samples_split=2,\n",
              "                       min_weight_fraction_leaf=0.0, n_estimators=1000,\n",
              "                       n_jobs=None, oob_score=False, random_state=None,\n",
              "                       verbose=0, warm_start=False)"
            ]
          },
          "metadata": {
            "tags": []
          },
          "execution_count": 12
        }
      ]
    },
    {
      "cell_type": "markdown",
      "metadata": {
        "id": "qF2_jZS-9a51",
        "colab_type": "text"
      },
      "source": [
        "## Saving the Model"
      ]
    },
    {
      "cell_type": "code",
      "metadata": {
        "id": "OIMXvsnt7zBV",
        "colab_type": "code",
        "colab": {}
      },
      "source": [
        "!mkdir models\n",
        "with open('models/vectorizer.pickle','wb') as f:\n",
        "    pickle.dump(vectorizer,f)\n",
        "\n",
        "with open('models/svm.pickle','wb') as f:\n",
        "    pickle.dump(svm,f)\n",
        "    \n",
        "with open('models/classifier.pickle','wb') as f:\n",
        "    pickle.dump(classifier,f)\n",
        "    \n",
        "with open('models/rf.pickle','wb') as f:\n",
        "    pickle.dump(rf,f)"
      ],
      "execution_count": 0,
      "outputs": []
    },
    {
      "cell_type": "markdown",
      "metadata": {
        "id": "ibF_rXPPCvQ-",
        "colab_type": "text"
      },
      "source": [
        "## Testing the Model"
      ]
    },
    {
      "cell_type": "code",
      "metadata": {
        "id": "NrLjalaJDExQ",
        "colab_type": "code",
        "colab": {}
      },
      "source": [
        "from sklearn.metrics import classification_report"
      ],
      "execution_count": 0,
      "outputs": []
    },
    {
      "cell_type": "code",
      "metadata": {
        "id": "Dq_xBobYCi19",
        "colab_type": "code",
        "colab": {
          "base_uri": "https://localhost:8080/",
          "height": 689
        },
        "outputId": "5bdfd242-9965-4d71-9da3-31184825b481"
      },
      "source": [
        "## SVM\n",
        "y_pred = svm.predict(X_test)\n",
        "print('------------------------------ SVM --------------------------------\\n')\n",
        "print(classification_report(Y_test,y_pred))\n",
        "print('-------------------------------- XX -------------------------------\\n')\n",
        "\n",
        "## Logistic Regression\n",
        "y_pred = classifier.predict(X_test)\n",
        "print('----------------------- Logistic Regression -----------------------\\n')\n",
        "print(classification_report(Y_test,y_pred))\n",
        "print('-------------------------------- XX -------------------------------\\n')\n",
        "\n",
        "## Random Forest\n",
        "y_pred = rf.predict(X_test)\n",
        "print('--------------------------- Random Forest -------------------------\\n')\n",
        "print(classification_report(Y_test,y_pred))\n",
        "print('-------------------------------- XX -------------------------------\\n')"
      ],
      "execution_count": 15,
      "outputs": [
        {
          "output_type": "stream",
          "text": [
            "------------------------------ SVM --------------------------------\n",
            "\n",
            "              precision    recall  f1-score   support\n",
            "\n",
            "           0       0.88      0.81      0.84       208\n",
            "           1       0.81      0.89      0.85       192\n",
            "\n",
            "    accuracy                           0.84       400\n",
            "   macro avg       0.85      0.85      0.84       400\n",
            "weighted avg       0.85      0.84      0.84       400\n",
            "\n",
            "-------------------------------- XX -------------------------------\n",
            "\n",
            "----------------------- Logistic Regression -----------------------\n",
            "\n",
            "              precision    recall  f1-score   support\n",
            "\n",
            "           0       0.90      0.85      0.87       208\n",
            "           1       0.85      0.90      0.87       192\n",
            "\n",
            "    accuracy                           0.87       400\n",
            "   macro avg       0.87      0.87      0.87       400\n",
            "weighted avg       0.87      0.87      0.87       400\n",
            "\n",
            "-------------------------------- XX -------------------------------\n",
            "\n",
            "--------------------------- Random Forest -------------------------\n",
            "\n",
            "              precision    recall  f1-score   support\n",
            "\n",
            "           0       0.84      0.86      0.85       208\n",
            "           1       0.84      0.82      0.83       192\n",
            "\n",
            "    accuracy                           0.84       400\n",
            "   macro avg       0.84      0.84      0.84       400\n",
            "weighted avg       0.84      0.84      0.84       400\n",
            "\n",
            "-------------------------------- XX -------------------------------\n",
            "\n"
          ],
          "name": "stdout"
        }
      ]
    }
  ]
}